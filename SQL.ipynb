{
 "cells": [
  {
   "cell_type": "markdown",
   "id": "13905829",
   "metadata": {
    "slideshow": {
     "slide_type": "slide"
    }
   },
   "source": [
    "### Installing the Package"
   ]
  },
  {
   "cell_type": "code",
   "execution_count": 1,
   "id": "bfe2e288",
   "metadata": {
    "scrolled": true,
    "slideshow": {
     "slide_type": "slide"
    }
   },
   "outputs": [
    {
     "name": "stdout",
     "output_type": "stream",
     "text": [
      "Requirement already satisfied: sqlalchemy in c:\\users\\andrew\\anaconda3\\envs\\deployment\\lib\\site-packages (1.4.28)\n",
      "Requirement already satisfied: importlib-metadata in c:\\users\\andrew\\anaconda3\\envs\\deployment\\lib\\site-packages (from sqlalchemy) (4.8.2)\n",
      "Requirement already satisfied: greenlet!=0.4.17 in c:\\users\\andrew\\anaconda3\\envs\\deployment\\lib\\site-packages (from sqlalchemy) (1.1.2)\n",
      "Requirement already satisfied: zipp>=0.5 in c:\\users\\andrew\\anaconda3\\envs\\deployment\\lib\\site-packages (from importlib-metadata->sqlalchemy) (3.6.0)\n",
      "Requirement already satisfied: typing-extensions>=3.6.4 in c:\\users\\andrew\\anaconda3\\envs\\deployment\\lib\\site-packages (from importlib-metadata->sqlalchemy) (4.0.1)\n",
      "Note: you may need to restart the kernel to use updated packages.\n"
     ]
    }
   ],
   "source": [
    "pip install sqlalchemy"
   ]
  },
  {
   "cell_type": "markdown",
   "id": "53a75ec7",
   "metadata": {
    "slideshow": {
     "slide_type": "slide"
    }
   },
   "source": [
    "### Connect to a database"
   ]
  },
  {
   "cell_type": "code",
   "execution_count": 2,
   "id": "572a4fb2",
   "metadata": {
    "slideshow": {
     "slide_type": "slide"
    }
   },
   "outputs": [],
   "source": [
    "from sqlalchemy import create_engine\n",
    "\n",
    "connection_string = 'sqlite:///winkel.db' \n",
    "engine = create_engine(connection_string, echo=False)\n"
   ]
  },
  {
   "cell_type": "markdown",
   "id": "7175b127",
   "metadata": {
    "slideshow": {
     "slide_type": "slide"
    }
   },
   "source": [
    "### Create a Table"
   ]
  },
  {
   "cell_type": "code",
   "execution_count": 3,
   "id": "fa11ed5e",
   "metadata": {
    "scrolled": true,
    "slideshow": {
     "slide_type": "slide"
    }
   },
   "outputs": [],
   "source": [
    "from sqlalchemy import Table, Column, Integer, Float, String, MetaData\n",
    "meta = MetaData()\n",
    "\n",
    "producten = Table(\n",
    "   'producten', meta, \n",
    "   Column('id', Integer, primary_key = True), \n",
    "   Column('product_naam', String), \n",
    "   Column('kostprijs', Float), \n",
    "    Column('verkoopprijs', Float), \n",
    ")\n",
    "\n",
    "meta.drop_all(engine)\n",
    "meta.create_all(engine)\n"
   ]
  },
  {
   "cell_type": "markdown",
   "id": "6e438aea",
   "metadata": {
    "slideshow": {
     "slide_type": "slide"
    }
   },
   "source": [
    "### Filling a table with data(Insert)"
   ]
  },
  {
   "cell_type": "code",
   "execution_count": 4,
   "id": "6e71fa8c",
   "metadata": {
    "slideshow": {
     "slide_type": "slide"
    }
   },
   "outputs": [],
   "source": [
    "insert = producten.insert().values(product_naam = 'Wasmand', kostprijs = '1.5', verkoopprijs = '4.5')\n",
    "with engine.connect() as connection:\n",
    "    connection.execute(insert)"
   ]
  },
  {
   "cell_type": "code",
   "execution_count": 5,
   "id": "c6c56799",
   "metadata": {
    "slideshow": {
     "slide_type": "slide"
    }
   },
   "outputs": [],
   "source": [
    "insert = producten.insert().values({ 'product_naam': 'Wasmand', 'kostprijs': 2, 'verkoopprijs': 5.5 })\n",
    "with engine.connect() as connection:\n",
    "    connection.execute(insert)"
   ]
  },
  {
   "cell_type": "code",
   "execution_count": 6,
   "id": "389708f1",
   "metadata": {
    "slideshow": {
     "slide_type": "slide"
    }
   },
   "outputs": [],
   "source": [
    "insert = producten.insert().values(\n",
    "    [\n",
    "        { 'product_naam': 'Wasmand', 'kostprijs': 2, 'verkoopprijs': 5.5 },\n",
    "        { 'product_naam': 'Droogrek', 'kostprijs': 10, 'verkoopprijs': 15 }\n",
    "    ])\n",
    "with engine.connect() as connection:\n",
    "    connection.execute(insert)"
   ]
  },
  {
   "cell_type": "markdown",
   "id": "e058a7dd",
   "metadata": {
    "slideshow": {
     "slide_type": "slide"
    }
   },
   "source": [
    "### Select data from one or more tables(Select)"
   ]
  },
  {
   "cell_type": "code",
   "execution_count": 7,
   "id": "1eae9d0a",
   "metadata": {
    "slideshow": {
     "slide_type": "slide"
    }
   },
   "outputs": [
    {
     "name": "stdout",
     "output_type": "stream",
     "text": [
      "(1, 'Wasmand', 1.5, 4.5)\n",
      "(2, 'Wasmand', 2.0, 5.5)\n",
      "(3, 'Wasmand', 2.0, 5.5)\n",
      "(4, 'Droogrek', 10.0, 15.0)\n"
     ]
    }
   ],
   "source": [
    "s = producten.select()\n",
    "with engine.connect() as connection:\n",
    "    result = connection.execute(s)\n",
    "    for row in result:\n",
    "        print(row)"
   ]
  },
  {
   "cell_type": "code",
   "execution_count": 8,
   "id": "ab673fb4",
   "metadata": {
    "slideshow": {
     "slide_type": "slide"
    }
   },
   "outputs": [
    {
     "name": "stdout",
     "output_type": "stream",
     "text": [
      "(1, 'Wasmand', 1.5, 4.5)\n",
      "(2, 'Wasmand', 2.0, 5.5)\n",
      "(3, 'Wasmand', 2.0, 5.5)\n"
     ]
    }
   ],
   "source": [
    "from sqlalchemy import select\n",
    "\n",
    "s = select([producten]).where(producten.c.product_naam == 'Wasmand')\n",
    "with engine.connect() as connection:\n",
    "    result = connection.execute(s)\n",
    "    for row in result:\n",
    "        print(row)"
   ]
  },
  {
   "cell_type": "code",
   "execution_count": 9,
   "id": "a4dd3462",
   "metadata": {
    "slideshow": {
     "slide_type": "slide"
    }
   },
   "outputs": [],
   "source": [
    "import pandas as pd\n",
    "\n",
    "with engine.connect() as connection:\n",
    "    df = pd.read_sql('producten', connection)"
   ]
  },
  {
   "cell_type": "code",
   "execution_count": 10,
   "id": "6e448c53",
   "metadata": {
    "slideshow": {
     "slide_type": "slide"
    }
   },
   "outputs": [
    {
     "data": {
      "text/html": [
       "<div>\n",
       "<style scoped>\n",
       "    .dataframe tbody tr th:only-of-type {\n",
       "        vertical-align: middle;\n",
       "    }\n",
       "\n",
       "    .dataframe tbody tr th {\n",
       "        vertical-align: top;\n",
       "    }\n",
       "\n",
       "    .dataframe thead th {\n",
       "        text-align: right;\n",
       "    }\n",
       "</style>\n",
       "<table border=\"1\" class=\"dataframe\">\n",
       "  <thead>\n",
       "    <tr style=\"text-align: right;\">\n",
       "      <th></th>\n",
       "      <th>id</th>\n",
       "      <th>kostprijs</th>\n",
       "      <th>verkoopprijs</th>\n",
       "    </tr>\n",
       "    <tr>\n",
       "      <th>product_naam</th>\n",
       "      <th></th>\n",
       "      <th></th>\n",
       "      <th></th>\n",
       "    </tr>\n",
       "  </thead>\n",
       "  <tbody>\n",
       "    <tr>\n",
       "      <th>Droogrek</th>\n",
       "      <td>4</td>\n",
       "      <td>10.000000</td>\n",
       "      <td>15.000000</td>\n",
       "    </tr>\n",
       "    <tr>\n",
       "      <th>Wasmand</th>\n",
       "      <td>2</td>\n",
       "      <td>1.833333</td>\n",
       "      <td>5.166667</td>\n",
       "    </tr>\n",
       "  </tbody>\n",
       "</table>\n",
       "</div>"
      ],
      "text/plain": [
       "              id  kostprijs  verkoopprijs\n",
       "product_naam                             \n",
       "Droogrek       4  10.000000     15.000000\n",
       "Wasmand        2   1.833333      5.166667"
      ]
     },
     "execution_count": 10,
     "metadata": {},
     "output_type": "execute_result"
    }
   ],
   "source": [
    "import pandas as pd\n",
    "\n",
    "with engine.connect() as connection:\n",
    "    df = pd.read_sql('producten', connection)\n",
    "df = df.groupby('product_naam').mean()\n",
    "df"
   ]
  },
  {
   "cell_type": "markdown",
   "id": "9cf0fae2",
   "metadata": {
    "slideshow": {
     "slide_type": "slide"
    }
   },
   "source": [
    "### Change and delete existing data(Update & Delete)"
   ]
  },
  {
   "cell_type": "code",
   "execution_count": 11,
   "id": "ec5756d0",
   "metadata": {
    "slideshow": {
     "slide_type": "slide"
    }
   },
   "outputs": [
    {
     "data": {
      "text/html": [
       "<div>\n",
       "<style scoped>\n",
       "    .dataframe tbody tr th:only-of-type {\n",
       "        vertical-align: middle;\n",
       "    }\n",
       "\n",
       "    .dataframe tbody tr th {\n",
       "        vertical-align: top;\n",
       "    }\n",
       "\n",
       "    .dataframe thead th {\n",
       "        text-align: right;\n",
       "    }\n",
       "</style>\n",
       "<table border=\"1\" class=\"dataframe\">\n",
       "  <thead>\n",
       "    <tr style=\"text-align: right;\">\n",
       "      <th></th>\n",
       "      <th>id</th>\n",
       "      <th>product_naam</th>\n",
       "      <th>kostprijs</th>\n",
       "      <th>verkoopprijs</th>\n",
       "    </tr>\n",
       "  </thead>\n",
       "  <tbody>\n",
       "    <tr>\n",
       "      <th>0</th>\n",
       "      <td>1</td>\n",
       "      <td>Wasmand</td>\n",
       "      <td>3.0</td>\n",
       "      <td>6.0</td>\n",
       "    </tr>\n",
       "    <tr>\n",
       "      <th>1</th>\n",
       "      <td>2</td>\n",
       "      <td>Wasmand</td>\n",
       "      <td>3.0</td>\n",
       "      <td>6.0</td>\n",
       "    </tr>\n",
       "    <tr>\n",
       "      <th>2</th>\n",
       "      <td>3</td>\n",
       "      <td>Wasmand</td>\n",
       "      <td>3.0</td>\n",
       "      <td>6.0</td>\n",
       "    </tr>\n",
       "    <tr>\n",
       "      <th>3</th>\n",
       "      <td>4</td>\n",
       "      <td>Droogrek</td>\n",
       "      <td>10.0</td>\n",
       "      <td>15.0</td>\n",
       "    </tr>\n",
       "  </tbody>\n",
       "</table>\n",
       "</div>"
      ],
      "text/plain": [
       "   id product_naam  kostprijs  verkoopprijs\n",
       "0   1      Wasmand        3.0           6.0\n",
       "1   2      Wasmand        3.0           6.0\n",
       "2   3      Wasmand        3.0           6.0\n",
       "3   4     Droogrek       10.0          15.0"
      ]
     },
     "execution_count": 11,
     "metadata": {},
     "output_type": "execute_result"
    }
   ],
   "source": [
    "update = producten.update().values({ 'kostprijs': 3, 'verkoopprijs': 6 }).where(producten.c.product_naam == 'Wasmand')\n",
    "with engine.connect() as connection:\n",
    "    connection.execute(update)\n",
    "    df = pd.read_sql('producten', connection)            \n",
    "df"
   ]
  },
  {
   "cell_type": "code",
   "execution_count": 12,
   "id": "0312c269",
   "metadata": {
    "slideshow": {
     "slide_type": "slide"
    }
   },
   "outputs": [],
   "source": [
    "delete = producten.delete().where(producten.c.verkoopprijs < 10)\n",
    "with engine.connect() as connection:\n",
    "    connection.execute(delete)\n",
    "    df = pd.read_sql('producten', connection)  "
   ]
  },
  {
   "cell_type": "code",
   "execution_count": null,
   "id": "53e6f5cc",
   "metadata": {
    "slideshow": {
     "slide_type": "slide"
    }
   },
   "outputs": [],
   "source": []
  }
 ],
 "metadata": {
  "celltoolbar": "Raw Cell Format",
  "kernelspec": {
   "display_name": "deployment",
   "language": "python",
   "name": "deployment"
  },
  "language_info": {
   "codemirror_mode": {
    "name": "ipython",
    "version": 3
   },
   "file_extension": ".py",
   "mimetype": "text/x-python",
   "name": "python",
   "nbconvert_exporter": "python",
   "pygments_lexer": "ipython3",
   "version": "3.6.13"
  }
 },
 "nbformat": 4,
 "nbformat_minor": 5
}
